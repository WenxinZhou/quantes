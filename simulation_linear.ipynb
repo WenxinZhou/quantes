{
 "cells": [
  {
   "cell_type": "markdown",
   "id": "fe2bc45a",
   "metadata": {},
   "source": [
    "# Simulation Studies of Linear QR Models"
   ]
  },
  {
   "cell_type": "code",
   "execution_count": 1,
   "id": "76700d75-37c0-4b7d-ae16-27832666cb8c",
   "metadata": {},
   "outputs": [],
   "source": [
    "import time\n",
    "import pandas as pd\n",
    "import numpy as np\n",
    "import numpy.random as rgt\n",
    "from scipy.stats import norm, t\n",
    "from joblib import Parallel, delayed\n",
    "\n",
    "from quantes.linear import low_dim\n",
    "from utl import cov_generate\n",
    "\n",
    "# Number of monte carlo simulations\n",
    "M = 500 "
   ]
  },
  {
   "cell_type": "markdown",
   "id": "0f818101-5d16-47b0-b1cc-14ffdb083f40",
   "metadata": {},
   "source": [
    "## Homoscedastic model"
   ]
  },
  {
   "cell_type": "markdown",
   "id": "7979d360",
   "metadata": {},
   "source": [
    "### Estimation error"
   ]
  },
  {
   "cell_type": "code",
   "execution_count": 2,
   "id": "b2b44c8d-ea7f-46c0-be04-9bbcaa2d5dea",
   "metadata": {},
   "outputs": [
    {
     "data": {
      "text/html": [
       "<div>\n",
       "<style scoped>\n",
       "    .dataframe tbody tr th:only-of-type {\n",
       "        vertical-align: middle;\n",
       "    }\n",
       "\n",
       "    .dataframe tbody tr th {\n",
       "        vertical-align: top;\n",
       "    }\n",
       "\n",
       "    .dataframe thead th {\n",
       "        text-align: right;\n",
       "    }\n",
       "</style>\n",
       "<table border=\"1\" class=\"dataframe\">\n",
       "  <thead>\n",
       "    <tr style=\"text-align: right;\">\n",
       "      <th></th>\n",
       "      <th>MSE (itcp)</th>\n",
       "      <th>std (itcp)</th>\n",
       "      <th>MSE (coef)</th>\n",
       "      <th>std (coef)</th>\n",
       "      <th>Runtime</th>\n",
       "    </tr>\n",
       "  </thead>\n",
       "  <tbody>\n",
       "    <tr>\n",
       "      <th>conquer</th>\n",
       "      <td>0.001963</td>\n",
       "      <td>0.001914</td>\n",
       "      <td>0.076628</td>\n",
       "      <td>0.005824</td>\n",
       "      <td>0.260992</td>\n",
       "    </tr>\n",
       "  </tbody>\n",
       "</table>\n",
       "</div>"
      ],
      "text/plain": [
       "         MSE (itcp)  std (itcp)  MSE (coef)  std (coef)   Runtime\n",
       "conquer    0.001963    0.001914    0.076628    0.005824  0.260992"
      ]
     },
     "execution_count": 2,
     "metadata": {},
     "output_type": "execute_result"
    }
   ],
   "source": [
    "n, p = 8000, 400\n",
    "itcp, beta = 4, 1*np.ones(p)*(2*rgt.binomial(1, 1/2, p) - 1)\n",
    "tau, t_df = 0.75, 2\n",
    "\n",
    "def sim(m):\n",
    "    rgt.seed(m)\n",
    "    X = rgt.normal(0, 1.5, size=(n,p))\n",
    "    Y = itcp + X @ beta + rgt.standard_t(t_df, n) - t.ppf(tau, t_df)\n",
    "    tic = time.time()\n",
    "    model = low_dim(X, Y).fit(tau=tau)\n",
    "    runtime = time.time() - tic\n",
    "    itcp_err = (model['beta'][0] - itcp)**2\n",
    "    coef_err = np.sum((model['beta'][1:] - beta)**2)\n",
    "    return itcp_err, coef_err, runtime\n",
    "\n",
    "results = Parallel(n_jobs=-1)(delayed(sim)(m) for m in range(M)) \n",
    "itcp_se, coef_se, runtime = zip(*results)\n",
    "out = pd.DataFrame({'MSE (itcp)': np.mean(itcp_se),\n",
    "                    'std (itcp)': np.std(itcp_se),\n",
    "                    'MSE (coef)': np.mean(coef_se),\n",
    "                    'std (coef)': np.std(coef_se),\n",
    "                    'Runtime': np.mean(runtime)}, index=['conquer'])\n",
    "out"
   ]
  },
  {
   "cell_type": "markdown",
   "id": "058e6d87-30bd-428a-b4fa-b93226584a72",
   "metadata": {},
   "source": [
    "### Coverage of confidence intervals"
   ]
  },
  {
   "cell_type": "code",
   "execution_count": 3,
   "id": "11f13ff1-f875-4c8a-b8c7-bc30faf6e851",
   "metadata": {},
   "outputs": [
    {
     "name": "stdout",
     "output_type": "stream",
     "text": [
      "            1      2      3      4      5      6      7      8      9      10  \\\n",
      "Normal   0.966  0.970  0.978  0.960  0.972  0.968  0.974  0.962  0.964  0.960   \n",
      "MB-Perc  0.952  0.970  0.960  0.970  0.966  0.950  0.970  0.964  0.958  0.966   \n",
      "MB-Piv   0.932  0.960  0.932  0.932  0.932  0.928  0.940  0.922  0.932  0.922   \n",
      "MB-Norm  0.960  0.978  0.958  0.968  0.966  0.950  0.966  0.950  0.956  0.944   \n",
      "\n",
      "            11     12     13     14     15     16     17     18     19     20  \n",
      "Normal   0.964  0.960  0.960  0.976  0.960  0.986  0.968  0.970  0.966  0.948  \n",
      "MB-Perc  0.964  0.954  0.960  0.986  0.962  0.978  0.966  0.956  0.974  0.958  \n",
      "MB-Piv   0.948  0.908  0.924  0.934  0.910  0.952  0.942  0.936  0.918  0.918  \n",
      "MB-Norm  0.976  0.942  0.952  0.972  0.954  0.984  0.972  0.958  0.956  0.952  \n",
      "\n",
      "            1      2      3      4      5      6      7      8      9      10  \\\n",
      "Normal   0.255  0.260  0.259  0.259  0.264  0.259  0.261  0.263  0.260  0.261   \n",
      "MB-Perc  0.222  0.226  0.222  0.224  0.226  0.225  0.223  0.226  0.226  0.224   \n",
      "MB-Piv   0.222  0.226  0.222  0.224  0.226  0.225  0.223  0.226  0.226  0.224   \n",
      "MB-Norm  0.226  0.230  0.227  0.228  0.230  0.227  0.226  0.230  0.230  0.228   \n",
      "\n",
      "            11     12     13     14     15     16     17     18     19     20  \n",
      "Normal   0.259  0.256  0.259  0.259  0.261  0.260  0.260  0.260  0.260  0.257  \n",
      "MB-Perc  0.224  0.223  0.225  0.225  0.226  0.224  0.225  0.224  0.224  0.224  \n",
      "MB-Piv   0.224  0.223  0.225  0.225  0.226  0.224  0.225  0.224  0.224  0.224  \n",
      "MB-Norm  0.228  0.227  0.229  0.228  0.230  0.228  0.229  0.227  0.227  0.228  \n"
     ]
    }
   ],
   "source": [
    "n, p = 500, 20\n",
    "mask = 2*rgt.binomial(1, 1/2, p) - 1\n",
    "itcp, beta = 4, 1*np.ones(p)*mask\n",
    "tau, t_df = 0.75, 2\n",
    "\n",
    "def homo_sim(m=0):\n",
    "    rgt.seed(42+m)\n",
    "    covers, widths = np.zeros((4, p)), np.zeros((4, p))\n",
    "    X = rgt.normal(0, 1.5, size=(n,p))\n",
    "    Y = itcp + X@beta + rgt.standard_t(t_df, n) - t.ppf(tau, t_df)\n",
    "    model = low_dim(X, Y)    \n",
    "    sol1 = model.norm_ci(tau, solver='BBGD')\n",
    "    sol2 = model.mb_ci(tau, solver='BBGD')\n",
    "    covers[0,:] = (beta >= sol1['normal'][1:,0])*(beta<= sol1['normal'][1:,1])\n",
    "    covers[1,:] = (beta >= sol2['percentile'][1:,0])*(beta<= sol2['percentile'][1:,1])\n",
    "    covers[2,:] = (beta >= sol2['pivotal'][1:,0])*(beta<= sol2['pivotal'][1:,1])\n",
    "    covers[3,:] = (beta >= sol2['normal'][1:,0])*(beta<= sol2['normal'][1:,1])\n",
    "    widths[0,:] = sol1['normal'][1:,1] - sol1['normal'][1:,0]\n",
    "    widths[1,:] = sol2['percentile'][1:,1] - sol2['percentile'][1:,0]\n",
    "    widths[2,:] = sol2['pivotal'][1:,1] - sol2['pivotal'][1:,0]\n",
    "    widths[3,:] = sol2['normal'][1:,1] - sol2['normal'][1:,0]\n",
    "    return covers, widths\n",
    "\n",
    "results = Parallel(n_jobs=-1)(delayed(homo_sim)(m) for m in range(M))\n",
    "ci_cover, ci_width = zip(*results)\n",
    "cover = pd.DataFrame(np.sum(ci_cover, axis=0) / M, \n",
    "                     index=[\"Normal\", \"MB-Perc\", \"MB-Piv\", \"MB-Norm\"])\n",
    "cover.columns = pd.Index(np.linspace(1, p, p), dtype=int)\n",
    "print(cover)\n",
    "print()\n",
    "width = pd.DataFrame(np.mean(ci_width, axis=0), \n",
    "                     index=[\"Normal\", \"MB-Perc\", \"MB-Piv\", \"MB-Norm\"]).round(3)\n",
    "width.columns = cover.columns\n",
    "print(width)"
   ]
  },
  {
   "cell_type": "markdown",
   "id": "ae287811-bc68-468e-a288-9bd0cb1e5bd6",
   "metadata": {},
   "source": [
    "## Heteroscedastic model"
   ]
  },
  {
   "cell_type": "markdown",
   "id": "fe29008e-abe2-402d-80ff-6ff9b97bb85b",
   "metadata": {},
   "source": [
    "Let $z=(z_1, \\ldots, z_p)^T \\sim N(0, \\Sigma)$ with $\\Sigma = (0.5^{|j-k|})_{1\\leq j, k \\leq p}$ and $z_0 \\sim {\\rm Unif}(0,2)$ be independent. Generate independent data vectors $\\{(y_i , x_i) \\}_{i=1}^n$ from the model \n",
    "$$\n",
    "    y_i =  \\varepsilon_i x_{i1}  +  x_{i2} + \\cdots + x_{ip}   \\quad {\\rm with } \\ \\  x_i = (x_{i1}, \\ldots, x_{ip})^T \\sim (z_0, z_2, \\ldots, z_p)^T,\n",
    "$$\n",
    "where $\\varepsilon_i$'s are iid $N(0,1)$ variables that are independent of $x_i$'s.\n",
    "\n",
    "Consider two quantile levels: $\\tau=0.5$ and $\\tau=0.8$. Note that the effect of $x_{i1}$ is only present for $\\tau=0.8$."
   ]
  },
  {
   "cell_type": "code",
   "execution_count": 4,
   "id": "75b611ee-7478-48a3-a0e8-a24cc2355dce",
   "metadata": {},
   "outputs": [],
   "source": [
    "n, p = 2000, 10\n",
    "beta = np.ones(p)\n",
    "beta[0] = 0\n",
    "mu, Sig = np.zeros(p), cov_generate(np.ones(p), 0.5)\n",
    "\n",
    "def hetero_sim(m=0, tau=0.5, true_beta=beta):\n",
    "    rgt.seed(42+m)\n",
    "    X = rgt.multivariate_normal(mean=mu, cov=Sig, size=n)\n",
    "    X[:,0] = rgt.uniform(0, 2, size=n)\n",
    "    Y = X@beta +  X[:,0]*rgt.normal(0,1,size=n)\n",
    "    covers, widths = np.zeros([4, p]), np.zeros([4, p])\n",
    "    model = low_dim(X, Y, intercept=False)\n",
    "    sol1 = model.norm_ci(tau)\n",
    "    sol2 = model.mb_ci(tau)\n",
    "    covers[0,:] = (true_beta >= sol1['normal'][:,0])*(true_beta<= sol1['normal'][:,1])\n",
    "    covers[1,:] = (true_beta >= sol2['percentile'][:,0])*(true_beta<= sol2['percentile'][:,1])\n",
    "    covers[2,:] = (true_beta >= sol2['pivotal'][:,0])*(true_beta<= sol2['pivotal'][:,1])\n",
    "    covers[3,:] = (true_beta >= sol2['normal'][:,0])*(true_beta<= sol2['normal'][:,1])\n",
    "    widths[0,:] = sol1['normal'][:,1] - sol1['normal'][:,0]\n",
    "    widths[1,:] = sol2['percentile'][:,1] - sol2['percentile'][:,0]\n",
    "    widths[2,:] = sol2['pivotal'][:,1] - sol2['pivotal'][:,0]\n",
    "    widths[3,:] = sol2['normal'][:,1] - sol2['normal'][:,0]\n",
    "    return covers, widths"
   ]
  },
  {
   "cell_type": "markdown",
   "id": "19e7e1aa-f715-4154-8a8f-326660907886",
   "metadata": {},
   "source": [
    "### Case 1: $\\tau=0.5$.\n",
    "The conditional median of $y_i$ given $x_i$ is $Q_{0.5}(y_i | x_i) =  x_{i2} + \\cdots + x_{ip}$."
   ]
  },
  {
   "cell_type": "code",
   "execution_count": 5,
   "id": "3474c203",
   "metadata": {},
   "outputs": [
    {
     "name": "stdout",
     "output_type": "stream",
     "text": [
      "            1      2      3      4      5      6      7      8      9      10\n",
      "Normal   0.946  0.946  0.956  0.964  0.956  0.940  0.948  0.966  0.962  0.952\n",
      "MB-Perc  0.936  0.948  0.956  0.956  0.944  0.936  0.944  0.952  0.944  0.940\n",
      "MB-Piv   0.934  0.960  0.960  0.974  0.966  0.954  0.954  0.972  0.958  0.964\n",
      "MB-Norm  0.944  0.966  0.964  0.974  0.962  0.952  0.954  0.968  0.962  0.952\n",
      "\n",
      "            1      2      3      4      5      6      7      8      9      10\n",
      "Normal   0.125  0.063  0.071  0.070  0.071  0.071  0.070  0.070  0.070  0.063\n",
      "MB-Perc  0.121  0.065  0.073  0.073  0.073  0.073  0.073  0.072  0.072  0.065\n",
      "MB-Piv   0.121  0.065  0.073  0.073  0.073  0.073  0.073  0.072  0.072  0.065\n",
      "MB-Norm  0.124  0.066  0.074  0.074  0.074  0.074  0.074  0.073  0.074  0.066\n"
     ]
    }
   ],
   "source": [
    "tau = 0.5\n",
    "true_beta = np.copy(beta)\n",
    "true_beta[0] = norm.ppf(tau)\n",
    "\n",
    "results = Parallel(n_jobs=-1)(delayed(hetero_sim)(m, tau, true_beta) \n",
    "                              for m in range(M))\n",
    "ci_cover, ci_width = zip(*results)\n",
    "cover = pd.DataFrame(np.sum(ci_cover, axis=0) / M, \n",
    "                     index=[\"Normal\", \"MB-Perc\", \"MB-Piv\", \"MB-Norm\"])\n",
    "cover.columns = pd.Index(np.linspace(1, p, p), dtype=int)\n",
    "print(cover)\n",
    "print()\n",
    "width = pd.DataFrame(np.mean(ci_width, axis=0), \n",
    "                     index=[\"Normal\", \"MB-Perc\", \"MB-Piv\", \"MB-Norm\"]).round(3)\n",
    "width.columns = cover.columns\n",
    "print(width)"
   ]
  },
  {
   "cell_type": "markdown",
   "id": "45636462-f041-43e7-b0d7-636bdf4f0496",
   "metadata": {},
   "source": [
    "### Case 2: $\\tau=0.8$. \n",
    "In this case, the conditional $0.8$-quantile of $y_i$ given $x_i$ is $Q_{0.8}(y_i | x_i) =   \\Phi^{-1}(0.8) x_{i1} + x_{i2} + \\cdots + x_{ip}$."
   ]
  },
  {
   "cell_type": "code",
   "execution_count": 6,
   "id": "627a6dd7-8e1c-414b-b7bf-00bb51b64e5c",
   "metadata": {},
   "outputs": [
    {
     "name": "stdout",
     "output_type": "stream",
     "text": [
      "            1      2      3      4      5      6      7      8      9      10\n",
      "Normal   0.948  0.958  0.954  0.970  0.958  0.962  0.942  0.952  0.964  0.952\n",
      "MB-Perc  0.942  0.952  0.938  0.952  0.950  0.936  0.942  0.946  0.952  0.922\n",
      "MB-Piv   0.934  0.962  0.958  0.978  0.970  0.966  0.958  0.960  0.978  0.966\n",
      "MB-Norm  0.938  0.964  0.958  0.972  0.966  0.960  0.950  0.958  0.970  0.968\n",
      "\n",
      "            1      2      3      4      5      6      7      8      9      10\n",
      "Normal   0.143  0.065  0.072  0.072  0.073  0.073  0.072  0.072  0.072  0.065\n",
      "MB-Perc  0.139  0.067  0.075  0.075  0.076  0.076  0.075  0.075  0.075  0.068\n",
      "MB-Piv   0.139  0.067  0.075  0.075  0.076  0.076  0.075  0.075  0.075  0.068\n",
      "MB-Norm  0.141  0.068  0.076  0.076  0.077  0.077  0.076  0.076  0.077  0.069\n"
     ]
    }
   ],
   "source": [
    "tau = 0.8\n",
    "true_beta = np.copy(beta)\n",
    "true_beta[0] = norm.ppf(tau)\n",
    "\n",
    "results = Parallel(n_jobs=-1)(delayed(hetero_sim)(m, tau, true_beta) for m in range(M))\n",
    "ci_cover, ci_width = zip(*results)\n",
    "cover = pd.DataFrame(np.sum(ci_cover, axis=0) / M, \n",
    "                     index=[\"Normal\", \"MB-Perc\", \"MB-Piv\", \"MB-Norm\"])\n",
    "cover.columns = pd.Index(np.linspace(1, p, p), dtype=int)\n",
    "print(cover)\n",
    "print()\n",
    "width = pd.DataFrame(np.mean(ci_width, axis=0), \n",
    "                     index=[\"Normal\", \"MB-Perc\", \"MB-Piv\", \"MB-Norm\"]).round(3)\n",
    "width.columns = cover.columns\n",
    "print(width)"
   ]
  },
  {
   "cell_type": "code",
   "execution_count": null,
   "id": "9fe60eb3",
   "metadata": {},
   "outputs": [],
   "source": []
  }
 ],
 "metadata": {
  "kernelspec": {
   "display_name": "base",
   "language": "python",
   "name": "python3"
  },
  "language_info": {
   "codemirror_mode": {
    "name": "ipython",
    "version": 3
   },
   "file_extension": ".py",
   "mimetype": "text/x-python",
   "name": "python",
   "nbconvert_exporter": "python",
   "pygments_lexer": "ipython3",
   "version": "3.12.7"
  }
 },
 "nbformat": 4,
 "nbformat_minor": 5
}
